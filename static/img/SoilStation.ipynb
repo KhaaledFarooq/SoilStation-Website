{
 "cells": [
  {
   "cell_type": "code",
   "execution_count": 1,
   "metadata": {},
   "outputs": [],
   "source": [
    "import torch"
   ]
  },
  {
   "cell_type": "code",
   "execution_count": 2,
   "metadata": {},
   "outputs": [
    {
     "name": "stdout",
     "output_type": "stream",
     "text": [
      "1.13.1\n"
     ]
    }
   ],
   "source": [
    "print(torch.__version__)"
   ]
  },
  {
   "cell_type": "code",
   "execution_count": 3,
   "metadata": {},
   "outputs": [],
   "source": [
    "import torchvision\n"
   ]
  },
  {
   "cell_type": "code",
   "execution_count": 4,
   "metadata": {},
   "outputs": [],
   "source": [
    "import torchvision.datasets as datasets\n"
   ]
  },
  {
   "cell_type": "code",
   "execution_count": 5,
   "metadata": {},
   "outputs": [
    {
     "name": "stdout",
     "output_type": "stream",
     "text": [
      "Downloading http://yann.lecun.com/exdb/mnist/train-images-idx3-ubyte.gz\n"
     ]
    },
    {
     "name": "stderr",
     "output_type": "stream",
     "text": [
      "0.3%"
     ]
    },
    {
     "name": "stdout",
     "output_type": "stream",
     "text": [
      "Downloading http://yann.lecun.com/exdb/mnist/train-images-idx3-ubyte.gz to ./data\\MNIST\\raw\\train-images-idx3-ubyte.gz\n"
     ]
    },
    {
     "name": "stderr",
     "output_type": "stream",
     "text": [
      "100.0%\n"
     ]
    },
    {
     "name": "stdout",
     "output_type": "stream",
     "text": [
      "Extracting ./data\\MNIST\\raw\\train-images-idx3-ubyte.gz to ./data\\MNIST\\raw\n",
      "\n",
      "Downloading http://yann.lecun.com/exdb/mnist/train-labels-idx1-ubyte.gz\n"
     ]
    },
    {
     "name": "stderr",
     "output_type": "stream",
     "text": [
      "100.0%"
     ]
    },
    {
     "name": "stdout",
     "output_type": "stream",
     "text": [
      "Downloading http://yann.lecun.com/exdb/mnist/train-labels-idx1-ubyte.gz to ./data\\MNIST\\raw\\train-labels-idx1-ubyte.gz\n",
      "Extracting ./data\\MNIST\\raw\\train-labels-idx1-ubyte.gz to ./data\\MNIST\\raw\n",
      "\n",
      "Downloading http://yann.lecun.com/exdb/mnist/t10k-images-idx3-ubyte.gz\n"
     ]
    },
    {
     "name": "stderr",
     "output_type": "stream",
     "text": [
      "\n",
      "2.0%"
     ]
    },
    {
     "name": "stdout",
     "output_type": "stream",
     "text": [
      "Downloading http://yann.lecun.com/exdb/mnist/t10k-images-idx3-ubyte.gz to ./data\\MNIST\\raw\\t10k-images-idx3-ubyte.gz\n"
     ]
    },
    {
     "name": "stderr",
     "output_type": "stream",
     "text": [
      "100.0%\n"
     ]
    },
    {
     "name": "stdout",
     "output_type": "stream",
     "text": [
      "Extracting ./data\\MNIST\\raw\\t10k-images-idx3-ubyte.gz to ./data\\MNIST\\raw\n",
      "\n",
      "Downloading http://yann.lecun.com/exdb/mnist/t10k-labels-idx1-ubyte.gz\n"
     ]
    },
    {
     "name": "stderr",
     "output_type": "stream",
     "text": [
      "100.0%"
     ]
    },
    {
     "name": "stdout",
     "output_type": "stream",
     "text": [
      "Downloading http://yann.lecun.com/exdb/mnist/t10k-labels-idx1-ubyte.gz to ./data\\MNIST\\raw\\t10k-labels-idx1-ubyte.gz\n",
      "Extracting ./data\\MNIST\\raw\\t10k-labels-idx1-ubyte.gz to ./data\\MNIST\\raw\n",
      "\n"
     ]
    },
    {
     "name": "stderr",
     "output_type": "stream",
     "text": [
      "\n"
     ]
    }
   ],
   "source": [
    "mnist_trainset = datasets.MNIST(root='./data', train=True, download=True, transform=None)\n"
   ]
  },
  {
   "cell_type": "code",
   "execution_count": 6,
   "metadata": {},
   "outputs": [],
   "source": [
    "mnist_testset = datasets.MNIST(root='./data', train=False, download=True, transform=None)\n"
   ]
  },
  {
   "cell_type": "code",
   "execution_count": 7,
   "metadata": {},
   "outputs": [
    {
     "data": {
      "text/plain": [
       "60000"
      ]
     },
     "execution_count": 7,
     "metadata": {},
     "output_type": "execute_result"
    }
   ],
   "source": [
    "len(mnist_trainset)\n"
   ]
  },
  {
   "cell_type": "code",
   "execution_count": 8,
   "metadata": {},
   "outputs": [
    {
     "data": {
      "text/plain": [
       "10000"
      ]
     },
     "execution_count": 8,
     "metadata": {},
     "output_type": "execute_result"
    }
   ],
   "source": [
    "len(mnist_testset)\n"
   ]
  },
  {
   "cell_type": "code",
   "execution_count": 9,
   "metadata": {},
   "outputs": [],
   "source": [
    "from torchvision import datasets\n",
    "from torchvision.transforms import ToTensor\n",
    "train_data = datasets.MNIST(\n",
    "    root = 'data',\n",
    "    train = True,                         \n",
    "    transform = ToTensor(), \n",
    "    download = True,            \n",
    ")\n",
    "test_data = datasets.MNIST(\n",
    "    root = 'data', \n",
    "    train = False, \n",
    "    transform = ToTensor()\n",
    ")"
   ]
  },
  {
   "cell_type": "code",
   "execution_count": 10,
   "metadata": {},
   "outputs": [
    {
     "name": "stdout",
     "output_type": "stream",
     "text": [
      "Dataset MNIST\n",
      "    Number of datapoints: 60000\n",
      "    Root location: data\n",
      "    Split: Train\n",
      "    StandardTransform\n",
      "Transform: ToTensor()\n"
     ]
    }
   ],
   "source": [
    "print(train_data)\n"
   ]
  },
  {
   "cell_type": "code",
   "execution_count": 11,
   "metadata": {},
   "outputs": [
    {
     "name": "stdout",
     "output_type": "stream",
     "text": [
      "Dataset MNIST\n",
      "    Number of datapoints: 10000\n",
      "    Root location: data\n",
      "    Split: Test\n",
      "    StandardTransform\n",
      "Transform: ToTensor()\n"
     ]
    }
   ],
   "source": [
    "print(test_data)\n"
   ]
  },
  {
   "cell_type": "code",
   "execution_count": 12,
   "metadata": {},
   "outputs": [
    {
     "name": "stdout",
     "output_type": "stream",
     "text": [
      "torch.Size([60000, 28, 28])\n"
     ]
    }
   ],
   "source": [
    "print(train_data.data.size())\n"
   ]
  },
  {
   "cell_type": "code",
   "execution_count": 13,
   "metadata": {},
   "outputs": [
    {
     "name": "stdout",
     "output_type": "stream",
     "text": [
      "torch.Size([60000])\n"
     ]
    }
   ],
   "source": [
    "print(train_data.targets.size())\n"
   ]
  },
  {
   "cell_type": "code",
   "execution_count": 15,
   "metadata": {},
   "outputs": [
    {
     "name": "stderr",
     "output_type": "stream",
     "text": [
      "Matplotlib is building the font cache; this may take a moment.\n"
     ]
    },
    {
     "data": {
      "image/png": "[encoded data removed]",
      "text/plain": [
       "<Figure size 640x480 with 1 Axes>"
      ]
     },
     "metadata": {},
     "output_type": "display_data"
    }
   ],
   "source": [
    "import matplotlib.pyplot as plt\n",
    "plt.imshow(train_data.data[0], cmap='gray')\n",
    "plt.title('%i' % train_data.targets[0])\n",
    "plt.show()"
   ]
  },
  {
   "cell_type": "code",
   "execution_count": 16,
   "metadata": {},
   "outputs": [
    {
     "data": {
      "image/png": "[encoded data removed]",
      "text/plain": [
       "<Figure size 1000x800 with 25 Axes>"
      ]
     },
     "metadata": {},
     "output_type": "display_data"
    }
   ],
   "source": [
    "figure = plt.figure(figsize=(10, 8))\n",
    "cols, rows = 5, 5\n",
    "for i in range(1, cols * rows + 1):\n",
    "    sample_idx = torch.randint(len(train_data), size=(1,)).item()\n",
    "    img, label = train_data[sample_idx]\n",
    "    figure.add_subplot(rows, cols, i)\n",
    "    plt.title(label)\n",
    "    plt.axis(\"off\")\n",
    "    plt.imshow(img.squeeze(), cmap=\"gray\")\n",
    "plt.show()"
   ]
  },
  {
   "cell_type": "code",
   "execution_count": 17,
   "metadata": {},
   "outputs": [
    {
     "data": {
      "text/plain": [
       "{'train': <torch.utils.data.dataloader.DataLoader at 0x25f408dbb50>,\n",
       " 'test': <torch.utils.data.dataloader.DataLoader at 0x25f408dba30>}"
      ]
     },
     "execution_count": 17,
     "metadata": {},
     "output_type": "execute_result"
    }
   ],
   "source": [
    "from torch.utils.data import DataLoader\n",
    "loaders = {\n",
    "    'train' : torch.utils.data.DataLoader(train_data, \n",
    "                                          batch_size=100, \n",
    "                                          shuffle=True, \n",
    "                                          num_workers=1),\n",
    "    \n",
    "    'test'  : torch.utils.data.DataLoader(test_data, \n",
    "                                          batch_size=100, \n",
    "                                          shuffle=True, \n",
    "                                          num_workers=1),\n",
    "}\n",
    "loaders"
   ]
  },
  {
   "cell_type": "code",
   "execution_count": 18,
   "metadata": {},
   "outputs": [],
   "source": [
    "import torch.nn as nn\n",
    "class CNN(nn.Module):\n",
    "    def __init__(self):\n",
    "        super(CNN, self).__init__()\n",
    "        self.conv1 = nn.Sequential(         \n",
    "            nn.Conv2d(\n",
    "                in_channels=1,              \n",
    "                out_channels=16,            \n",
    "                kernel_size=5,              \n",
    "                stride=1,                   \n",
    "                padding=2,                  \n",
    "            ),                              \n",
    "            nn.ReLU(),                      \n",
    "            nn.MaxPool2d(kernel_size=2),    \n",
    "        )\n",
    "        self.conv2 = nn.Sequential(         \n",
    "            nn.Conv2d(16, 32, 5, 1, 2),     \n",
    "            nn.ReLU(),                      \n",
    "            nn.MaxPool2d(2),                \n",
    "        )\n",
    "        # fully connected layer, output 10 classes\n",
    "        self.out = nn.Linear(32 * 7 * 7, 10)\n",
    "    def forward(self, x):\n",
    "        x = self.conv1(x)\n",
    "        x = self.conv2(x)\n",
    "        # flatten the output of conv2 to (batch_size, 32 * 7 * 7)\n",
    "        x = x.view(x.size(0), -1)       \n",
    "        output = self.out(x)\n",
    "        return output, x    # return x for visualization"
   ]
  },
  {
   "cell_type": "code",
   "execution_count": 19,
   "metadata": {},
   "outputs": [
    {
     "name": "stdout",
     "output_type": "stream",
     "text": [
      "CNN(\n",
      "  (conv1): Sequential(\n",
      "    (0): Conv2d(1, 16, kernel_size=(5, 5), stride=(1, 1), padding=(2, 2))\n",
      "    (1): ReLU()\n",
      "    (2): MaxPool2d(kernel_size=2, stride=2, padding=0, dilation=1, ceil_mode=False)\n",
      "  )\n",
      "  (conv2): Sequential(\n",
      "    (0): Conv2d(16, 32, kernel_size=(5, 5), stride=(1, 1), padding=(2, 2))\n",
      "    (1): ReLU()\n",
      "    (2): MaxPool2d(kernel_size=2, stride=2, padding=0, dilation=1, ceil_mode=False)\n",
      "  )\n",
      "  (out): Linear(in_features=1568, out_features=10, bias=True)\n",
      ")\n"
     ]
    }
   ],
   "source": [
    "cnn = CNN()\n",
    "print(cnn)"
   ]
  },
  {
   "cell_type": "code",
   "execution_count": 20,
   "metadata": {},
   "outputs": [
    {
     "data": {
      "text/plain": [
       "CrossEntropyLoss()"
      ]
     },
     "execution_count": 20,
     "metadata": {},
     "output_type": "execute_result"
    }
   ],
   "source": [
    "loss_func = nn.CrossEntropyLoss()   \n",
    "loss_func"
   ]
  },
  {
   "cell_type": "code",
   "execution_count": 21,
   "metadata": {},
   "outputs": [
    {
     "data": {
      "text/plain": [
       "Adam (\n",
       "Parameter Group 0\n",
       "    amsgrad: False\n",
       "    betas: (0.9, 0.999)\n",
       "    capturable: False\n",
       "    differentiable: False\n",
       "    eps: 1e-08\n",
       "    foreach: None\n",
       "    fused: False\n",
       "    lr: 0.01\n",
       "    maximize: False\n",
       "    weight_decay: 0\n",
       ")"
      ]
     },
     "execution_count": 21,
     "metadata": {},
     "output_type": "execute_result"
    }
   ],
   "source": [
    "from torch import optim\n",
    "optimizer = optim.Adam(cnn.parameters(), lr = 0.01)   \n",
    "optimizer"
   ]
  },
  {
   "cell_type": "code",
   "execution_count": 26,
   "metadata": {},
   "outputs": [
    {
     "name": "stdout",
     "output_type": "stream",
     "text": [
      "Epoch [1/10], Step [100/600], Loss: 0.0985\n",
      "Epoch [1/10], Step [200/600], Loss: 0.0427\n",
      "Epoch [1/10], Step [300/600], Loss: 0.1044\n",
      "Epoch [1/10], Step [400/600], Loss: 0.1432\n",
      "Epoch [1/10], Step [500/600], Loss: 0.0368\n",
      "Epoch [1/10], Step [600/600], Loss: 0.0915\n",
      "Epoch [2/10], Step [100/600], Loss: 0.0290\n",
      "Epoch [2/10], Step [200/600], Loss: 0.0849\n",
      "Epoch [2/10], Step [300/600], Loss: 0.0385\n",
      "Epoch [2/10], Step [400/600], Loss: 0.0487\n",
      "Epoch [2/10], Step [500/600], Loss: 0.0567\n",
      "Epoch [2/10], Step [600/600], Loss: 0.0330\n",
      "Epoch [3/10], Step [100/600], Loss: 0.0248\n",
      "Epoch [3/10], Step [200/600], Loss: 0.0241\n",
      "Epoch [3/10], Step [300/600], Loss: 0.0067\n",
      "Epoch [3/10], Step [400/600], Loss: 0.0953\n",
      "Epoch [3/10], Step [500/600], Loss: 0.0197\n",
      "Epoch [3/10], Step [600/600], Loss: 0.0318\n",
      "Epoch [4/10], Step [100/600], Loss: 0.0134\n",
      "Epoch [4/10], Step [200/600], Loss: 0.0177\n",
      "Epoch [4/10], Step [300/600], Loss: 0.0108\n",
      "Epoch [4/10], Step [400/600], Loss: 0.0221\n",
      "Epoch [4/10], Step [500/600], Loss: 0.0538\n",
      "Epoch [4/10], Step [600/600], Loss: 0.1911\n",
      "Epoch [5/10], Step [100/600], Loss: 0.0702\n",
      "Epoch [5/10], Step [200/600], Loss: 0.0104\n",
      "Epoch [5/10], Step [300/600], Loss: 0.0184\n",
      "Epoch [5/10], Step [400/600], Loss: 0.0254\n",
      "Epoch [5/10], Step [500/600], Loss: 0.0018\n",
      "Epoch [5/10], Step [600/600], Loss: 0.0125\n",
      "Epoch [6/10], Step [100/600], Loss: 0.0003\n",
      "Epoch [6/10], Step [200/600], Loss: 0.0002\n",
      "Epoch [6/10], Step [300/600], Loss: 0.0403\n",
      "Epoch [6/10], Step [400/600], Loss: 0.0256\n",
      "Epoch [6/10], Step [500/600], Loss: 0.0363\n",
      "Epoch [6/10], Step [600/600], Loss: 0.0887\n",
      "Epoch [7/10], Step [100/600], Loss: 0.0010\n",
      "Epoch [7/10], Step [200/600], Loss: 0.0521\n",
      "Epoch [7/10], Step [300/600], Loss: 0.0266\n",
      "Epoch [7/10], Step [400/600], Loss: 0.0598\n",
      "Epoch [7/10], Step [500/600], Loss: 0.0001\n",
      "Epoch [7/10], Step [600/600], Loss: 0.0205\n",
      "Epoch [8/10], Step [100/600], Loss: 0.0165\n",
      "Epoch [8/10], Step [200/600], Loss: 0.0956\n",
      "Epoch [8/10], Step [300/600], Loss: 0.1036\n",
      "Epoch [8/10], Step [400/600], Loss: 0.0648\n",
      "Epoch [8/10], Step [500/600], Loss: 0.0375\n",
      "Epoch [8/10], Step [600/600], Loss: 0.0337\n",
      "Epoch [9/10], Step [100/600], Loss: 0.0004\n",
      "Epoch [9/10], Step [200/600], Loss: 0.0153\n",
      "Epoch [9/10], Step [300/600], Loss: 0.0954\n",
      "Epoch [9/10], Step [400/600], Loss: 0.2512\n",
      "Epoch [9/10], Step [500/600], Loss: 0.0024\n",
      "Epoch [9/10], Step [600/600], Loss: 0.0521\n",
      "Epoch [10/10], Step [100/600], Loss: 0.0181\n",
      "Epoch [10/10], Step [200/600], Loss: 0.0290\n",
      "Epoch [10/10], Step [300/600], Loss: 0.0073\n",
      "Epoch [10/10], Step [400/600], Loss: 0.0344\n",
      "Epoch [10/10], Step [500/600], Loss: 0.0067\n",
      "Epoch [10/10], Step [600/600], Loss: 0.0089\n"
     ]
    }
   ],
   "source": [
    "from torch.autograd import Variable\n",
    "num_epochs = 10\n",
    "def train(num_epochs, cnn, loaders):\n",
    "    \n",
    "    cnn.train()\n",
    "        \n",
    "    # Train the model\n",
    "    total_step = len(loaders['train'])\n",
    "        \n",
    "    for epoch in range(num_epochs):\n",
    "        for i, (images, labels) in enumerate(loaders['train']):\n",
    "            \n",
    "            # gives batch data, normalize x when iterate train_loader\n",
    "            b_x = Variable(images)   # batch x\n",
    "            b_y = Variable(labels)   # batch y\n",
    "            output = cnn(b_x)[0]               \n",
    "            loss = loss_func(output, b_y)\n",
    "            \n",
    "            # clear gradients for this training step   \n",
    "            optimizer.zero_grad()           \n",
    "            \n",
    "            # backpropagation, compute gradients \n",
    "            loss.backward()    \n",
    "            # apply gradients             \n",
    "            optimizer.step()                \n",
    "            \n",
    "            if (i+1) % 100 == 0:\n",
    "                print ('Epoch [{}/{}], Step [{}/{}], Loss: {:.4f}' \n",
    "                       .format(epoch + 1, num_epochs, i + 1, total_step, loss.item()))\n",
    "                pass\n",
    "        \n",
    "        pass\n",
    "    \n",
    "    \n",
    "    pass\n",
    "train(num_epochs, cnn, loaders)"
   ]
  },
  {
   "cell_type": "code",
   "execution_count": 28,
   "metadata": {},
   "outputs": [
    {
     "name": "stdout",
     "output_type": "stream",
     "text": [
      "Test Accuracy of the model on the 10000 test images: 0.97\n",
      "Test Accuracy of the model on the 10000 test images: 0.98\n",
      "Test Accuracy of the model on the 10000 test images: 0.98\n",
      "Test Accuracy of the model on the 10000 test images: 0.96\n",
      "Test Accuracy of the model on the 10000 test images: 1.00\n",
      "Test Accuracy of the model on the 10000 test images: 0.97\n",
      "Test Accuracy of the model on the 10000 test images: 0.99\n",
      "Test Accuracy of the model on the 10000 test images: 0.99\n",
      "Test Accuracy of the model on the 10000 test images: 0.97\n",
      "Test Accuracy of the model on the 10000 test images: 0.98\n",
      "Test Accuracy of the model on the 10000 test images: 0.95\n",
      "Test Accuracy of the model on the 10000 test images: 0.97\n",
      "Test Accuracy of the model on the 10000 test images: 0.98\n",
      "Test Accuracy of the model on the 10000 test images: 0.98\n",
      "Test Accuracy of the model on the 10000 test images: 1.00\n",
      "Test Accuracy of the model on the 10000 test images: 0.96\n",
      "Test Accuracy of the model on the 10000 test images: 1.00\n",
      "Test Accuracy of the model on the 10000 test images: 0.99\n",
      "Test Accuracy of the model on the 10000 test images: 0.98\n",
      "Test Accuracy of the model on the 10000 test images: 0.98\n",
      "Test Accuracy of the model on the 10000 test images: 0.97\n",
      "Test Accuracy of the model on the 10000 test images: 0.97\n",
      "Test Accuracy of the model on the 10000 test images: 0.98\n",
      "Test Accuracy of the model on the 10000 test images: 0.99\n",
      "Test Accuracy of the model on the 10000 test images: 0.95\n",
      "Test Accuracy of the model on the 10000 test images: 1.00\n",
      "Test Accuracy of the model on the 10000 test images: 0.97\n",
      "Test Accuracy of the model on the 10000 test images: 0.98\n",
      "Test Accuracy of the model on the 10000 test images: 0.99\n",
      "Test Accuracy of the model on the 10000 test images: 0.97\n",
      "Test Accuracy of the model on the 10000 test images: 0.98\n",
      "Test Accuracy of the model on the 10000 test images: 1.00\n",
      "Test Accuracy of the model on the 10000 test images: 0.99\n",
      "Test Accuracy of the model on the 10000 test images: 0.99\n",
      "Test Accuracy of the model on the 10000 test images: 0.99\n",
      "Test Accuracy of the model on the 10000 test images: 0.96\n",
      "Test Accuracy of the model on the 10000 test images: 0.98\n",
      "Test Accuracy of the model on the 10000 test images: 0.98\n",
      "Test Accuracy of the model on the 10000 test images: 1.00\n",
      "Test Accuracy of the model on the 10000 test images: 0.98\n",
      "Test Accuracy of the model on the 10000 test images: 0.98\n",
      "Test Accuracy of the model on the 10000 test images: 0.97\n",
      "Test Accuracy of the model on the 10000 test images: 1.00\n",
      "Test Accuracy of the model on the 10000 test images: 0.99\n",
      "Test Accuracy of the model on the 10000 test images: 0.99\n",
      "Test Accuracy of the model on the 10000 test images: 0.98\n",
      "Test Accuracy of the model on the 10000 test images: 0.97\n",
      "Test Accuracy of the model on the 10000 test images: 1.00\n",
      "Test Accuracy of the model on the 10000 test images: 1.00\n",
      "Test Accuracy of the model on the 10000 test images: 0.97\n",
      "Test Accuracy of the model on the 10000 test images: 0.99\n",
      "Test Accuracy of the model on the 10000 test images: 1.00\n",
      "Test Accuracy of the model on the 10000 test images: 0.99\n",
      "Test Accuracy of the model on the 10000 test images: 0.99\n",
      "Test Accuracy of the model on the 10000 test images: 1.00\n",
      "Test Accuracy of the model on the 10000 test images: 0.96\n",
      "Test Accuracy of the model on the 10000 test images: 0.98\n",
      "Test Accuracy of the model on the 10000 test images: 0.99\n",
      "Test Accuracy of the model on the 10000 test images: 0.96\n",
      "Test Accuracy of the model on the 10000 test images: 0.97\n",
      "Test Accuracy of the model on the 10000 test images: 0.98\n",
      "Test Accuracy of the model on the 10000 test images: 0.98\n",
      "Test Accuracy of the model on the 10000 test images: 1.00\n",
      "Test Accuracy of the model on the 10000 test images: 0.97\n",
      "Test Accuracy of the model on the 10000 test images: 1.00\n",
      "Test Accuracy of the model on the 10000 test images: 0.98\n",
      "Test Accuracy of the model on the 10000 test images: 0.96\n",
      "Test Accuracy of the model on the 10000 test images: 0.98\n",
      "Test Accuracy of the model on the 10000 test images: 0.98\n",
      "Test Accuracy of the model on the 10000 test images: 0.99\n",
      "Test Accuracy of the model on the 10000 test images: 0.98\n",
      "Test Accuracy of the model on the 10000 test images: 1.00\n",
      "Test Accuracy of the model on the 10000 test images: 0.98\n",
      "Test Accuracy of the model on the 10000 test images: 1.00\n",
      "Test Accuracy of the model on the 10000 test images: 0.98\n",
      "Test Accuracy of the model on the 10000 test images: 0.97\n",
      "Test Accuracy of the model on the 10000 test images: 0.99\n",
      "Test Accuracy of the model on the 10000 test images: 0.98\n",
      "Test Accuracy of the model on the 10000 test images: 0.99\n",
      "Test Accuracy of the model on the 10000 test images: 0.99\n",
      "Test Accuracy of the model on the 10000 test images: 0.99\n",
      "Test Accuracy of the model on the 10000 test images: 0.99\n",
      "Test Accuracy of the model on the 10000 test images: 0.99\n",
      "Test Accuracy of the model on the 10000 test images: 0.97\n",
      "Test Accuracy of the model on the 10000 test images: 1.00\n",
      "Test Accuracy of the model on the 10000 test images: 0.97\n",
      "Test Accuracy of the model on the 10000 test images: 0.96\n",
      "Test Accuracy of the model on the 10000 test images: 0.98\n",
      "Test Accuracy of the model on the 10000 test images: 0.99\n",
      "Test Accuracy of the model on the 10000 test images: 0.98\n",
      "Test Accuracy of the model on the 10000 test images: 0.99\n",
      "Test Accuracy of the model on the 10000 test images: 0.99\n",
      "Test Accuracy of the model on the 10000 test images: 0.97\n",
      "Test Accuracy of the model on the 10000 test images: 0.95\n",
      "Test Accuracy of the model on the 10000 test images: 0.96\n",
      "Test Accuracy of the model on the 10000 test images: 0.99\n",
      "Test Accuracy of the model on the 10000 test images: 1.00\n",
      "Test Accuracy of the model on the 10000 test images: 0.98\n",
      "Test Accuracy of the model on the 10000 test images: 0.99\n",
      "Test Accuracy of the model on the 10000 test images: 0.98\n"
     ]
    }
   ],
   "source": [
    "def test():\n",
    "    # Test the model\n",
    "    cnn.eval()\n",
    "    with torch.no_grad():\n",
    "        correct = 0\n",
    "        total = 0\n",
    "        for images, labels in loaders['test']:\n",
    "            test_output, last_layer = cnn(images)\n",
    "            pred_y = torch.max(test_output, 1)[1].data.squeeze()\n",
    "            accuracy = (pred_y == labels).sum().item() / float(labels.size(0))\n",
    "            pass\n",
    "            print('Test Accuracy of the model on the 10000 test images: %.2f' % accuracy)\n",
    "    \n",
    "pass\n",
    "test()"
   ]
  },
  {
   "cell_type": "code",
   "execution_count": 29,
   "metadata": {},
   "outputs": [],
   "source": [
    "sample = next(iter(loaders['test']))\n",
    "imgs, lbls = sample"
   ]
  },
  {
   "cell_type": "code",
   "execution_count": 30,
   "metadata": {},
   "outputs": [
    {
     "data": {
      "text/plain": [
       "array([0, 3, 3, 8, 0, 6, 4, 2, 4, 1], dtype=int64)"
      ]
     },
     "execution_count": 30,
     "metadata": {},
     "output_type": "execute_result"
    }
   ],
   "source": [
    "actual_number = lbls[:10].numpy()\n",
    "actual_number"
   ]
  },
  {
   "cell_type": "code",
   "execution_count": 31,
   "metadata": {},
   "outputs": [
    {
     "name": "stdout",
     "output_type": "stream",
     "text": [
      "Prediction number: [0 3 3 8 0 6 4 2 4 1]\n",
      "Actual number: [0 3 3 8 0 6 4 2 4 1]\n"
     ]
    }
   ],
   "source": [
    "test_output, last_layer = cnn(imgs[:10])\n",
    "pred_y = torch.max(test_output, 1)[1].data.numpy().squeeze()\n",
    "print(f'Prediction number: {pred_y}')\n",
    "print(f'Actual number: {actual_number}')"
   ]
  }
 ],
 "metadata": {
  "kernelspec": {
   "display_name": "SoilStation",
   "language": "python",
   "name": "python3"
  },
  "language_info": {
   "codemirror_mode": {
    "name": "ipython",
    "version": 3
   },
   "file_extension": ".py",
   "mimetype": "text/x-python",
   "name": "python",
   "nbconvert_exporter": "python",
   "pygments_lexer": "ipython3",
   "version": "3.9.16"
  },
  "orig_nbformat": 4,
  "vscode": {
   "interpreter": {
    "hash": "7d63d4125e07e45c4860ca6981bec1122df5abe7f22848dbbc217adb5181625e"
   }
  }
 },
 "nbformat": 4,
 "nbformat_minor": 2
}
